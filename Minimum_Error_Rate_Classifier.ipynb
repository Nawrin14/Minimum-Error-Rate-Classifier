{
  "nbformat": 4,
  "nbformat_minor": 0,
  "metadata": {
    "colab": {
      "provenance": [],
      "authorship_tag": "ABX9TyPrr/dkfyv6TfKeXUjaCwSn"
    },
    "kernelspec": {
      "name": "python3",
      "display_name": "Python 3"
    },
    "language_info": {
      "name": "python"
    }
  },
  "cells": [
    {
      "cell_type": "code",
      "source": [
        "import pandas as pd\n",
        "import numpy as np\n",
        "import matplotlib.pyplot as plt\n",
        "import math"
      ],
      "metadata": {
        "id": "BBhjXrUEXd9U"
      },
      "execution_count": 3,
      "outputs": []
    },
    {
      "cell_type": "code",
      "source": [
        "df = pd.read_csv('/content/test-Minimum-Error-Rate-Classifier.txt', header = None, sep = ',')\n",
        "df"
      ],
      "metadata": {
        "id": "e_UTzhVMjJmQ",
        "colab": {
          "base_uri": "https://localhost:8080/",
          "height": 237
        },
        "outputId": "5597c854-2915-4c65-ec57-a1d2a0df0825"
      },
      "execution_count": 4,
      "outputs": [
        {
          "output_type": "execute_result",
          "data": {
            "text/plain": [
              "   0    1\n",
              "0  1  1.0\n",
              "1  1 -1.0\n",
              "2  4  5.0\n",
              "3 -2  2.5\n",
              "4  0  2.0\n",
              "5  2 -3.0"
            ],
            "text/html": [
              "\n",
              "  <div id=\"df-02414bcf-156b-4912-8207-0bd6d42d05b6\">\n",
              "    <div class=\"colab-df-container\">\n",
              "      <div>\n",
              "<style scoped>\n",
              "    .dataframe tbody tr th:only-of-type {\n",
              "        vertical-align: middle;\n",
              "    }\n",
              "\n",
              "    .dataframe tbody tr th {\n",
              "        vertical-align: top;\n",
              "    }\n",
              "\n",
              "    .dataframe thead th {\n",
              "        text-align: right;\n",
              "    }\n",
              "</style>\n",
              "<table border=\"1\" class=\"dataframe\">\n",
              "  <thead>\n",
              "    <tr style=\"text-align: right;\">\n",
              "      <th></th>\n",
              "      <th>0</th>\n",
              "      <th>1</th>\n",
              "    </tr>\n",
              "  </thead>\n",
              "  <tbody>\n",
              "    <tr>\n",
              "      <th>0</th>\n",
              "      <td>1</td>\n",
              "      <td>1.0</td>\n",
              "    </tr>\n",
              "    <tr>\n",
              "      <th>1</th>\n",
              "      <td>1</td>\n",
              "      <td>-1.0</td>\n",
              "    </tr>\n",
              "    <tr>\n",
              "      <th>2</th>\n",
              "      <td>4</td>\n",
              "      <td>5.0</td>\n",
              "    </tr>\n",
              "    <tr>\n",
              "      <th>3</th>\n",
              "      <td>-2</td>\n",
              "      <td>2.5</td>\n",
              "    </tr>\n",
              "    <tr>\n",
              "      <th>4</th>\n",
              "      <td>0</td>\n",
              "      <td>2.0</td>\n",
              "    </tr>\n",
              "    <tr>\n",
              "      <th>5</th>\n",
              "      <td>2</td>\n",
              "      <td>-3.0</td>\n",
              "    </tr>\n",
              "  </tbody>\n",
              "</table>\n",
              "</div>\n",
              "      <button class=\"colab-df-convert\" onclick=\"convertToInteractive('df-02414bcf-156b-4912-8207-0bd6d42d05b6')\"\n",
              "              title=\"Convert this dataframe to an interactive table.\"\n",
              "              style=\"display:none;\">\n",
              "        \n",
              "  <svg xmlns=\"http://www.w3.org/2000/svg\" height=\"24px\"viewBox=\"0 0 24 24\"\n",
              "       width=\"24px\">\n",
              "    <path d=\"M0 0h24v24H0V0z\" fill=\"none\"/>\n",
              "    <path d=\"M18.56 5.44l.94 2.06.94-2.06 2.06-.94-2.06-.94-.94-2.06-.94 2.06-2.06.94zm-11 1L8.5 8.5l.94-2.06 2.06-.94-2.06-.94L8.5 2.5l-.94 2.06-2.06.94zm10 10l.94 2.06.94-2.06 2.06-.94-2.06-.94-.94-2.06-.94 2.06-2.06.94z\"/><path d=\"M17.41 7.96l-1.37-1.37c-.4-.4-.92-.59-1.43-.59-.52 0-1.04.2-1.43.59L10.3 9.45l-7.72 7.72c-.78.78-.78 2.05 0 2.83L4 21.41c.39.39.9.59 1.41.59.51 0 1.02-.2 1.41-.59l7.78-7.78 2.81-2.81c.8-.78.8-2.07 0-2.86zM5.41 20L4 18.59l7.72-7.72 1.47 1.35L5.41 20z\"/>\n",
              "  </svg>\n",
              "      </button>\n",
              "      \n",
              "  <style>\n",
              "    .colab-df-container {\n",
              "      display:flex;\n",
              "      flex-wrap:wrap;\n",
              "      gap: 12px;\n",
              "    }\n",
              "\n",
              "    .colab-df-convert {\n",
              "      background-color: #E8F0FE;\n",
              "      border: none;\n",
              "      border-radius: 50%;\n",
              "      cursor: pointer;\n",
              "      display: none;\n",
              "      fill: #1967D2;\n",
              "      height: 32px;\n",
              "      padding: 0 0 0 0;\n",
              "      width: 32px;\n",
              "    }\n",
              "\n",
              "    .colab-df-convert:hover {\n",
              "      background-color: #E2EBFA;\n",
              "      box-shadow: 0px 1px 2px rgba(60, 64, 67, 0.3), 0px 1px 3px 1px rgba(60, 64, 67, 0.15);\n",
              "      fill: #174EA6;\n",
              "    }\n",
              "\n",
              "    [theme=dark] .colab-df-convert {\n",
              "      background-color: #3B4455;\n",
              "      fill: #D2E3FC;\n",
              "    }\n",
              "\n",
              "    [theme=dark] .colab-df-convert:hover {\n",
              "      background-color: #434B5C;\n",
              "      box-shadow: 0px 1px 3px 1px rgba(0, 0, 0, 0.15);\n",
              "      filter: drop-shadow(0px 1px 2px rgba(0, 0, 0, 0.3));\n",
              "      fill: #FFFFFF;\n",
              "    }\n",
              "  </style>\n",
              "\n",
              "      <script>\n",
              "        const buttonEl =\n",
              "          document.querySelector('#df-02414bcf-156b-4912-8207-0bd6d42d05b6 button.colab-df-convert');\n",
              "        buttonEl.style.display =\n",
              "          google.colab.kernel.accessAllowed ? 'block' : 'none';\n",
              "\n",
              "        async function convertToInteractive(key) {\n",
              "          const element = document.querySelector('#df-02414bcf-156b-4912-8207-0bd6d42d05b6');\n",
              "          const dataTable =\n",
              "            await google.colab.kernel.invokeFunction('convertToInteractive',\n",
              "                                                     [key], {});\n",
              "          if (!dataTable) return;\n",
              "\n",
              "          const docLinkHtml = 'Like what you see? Visit the ' +\n",
              "            '<a target=\"_blank\" href=https://colab.research.google.com/notebooks/data_table.ipynb>data table notebook</a>'\n",
              "            + ' to learn more about interactive tables.';\n",
              "          element.innerHTML = '';\n",
              "          dataTable['output_type'] = 'display_data';\n",
              "          await google.colab.output.renderOutput(dataTable, element);\n",
              "          const docLink = document.createElement('div');\n",
              "          docLink.innerHTML = docLinkHtml;\n",
              "          element.appendChild(docLink);\n",
              "        }\n",
              "      </script>\n",
              "    </div>\n",
              "  </div>\n",
              "  "
            ]
          },
          "metadata": {},
          "execution_count": 4
        }
      ]
    },
    {
      "cell_type": "markdown",
      "source": [
        "**Task 1**"
      ],
      "metadata": {
        "id": "7CSDk4WqyC5d"
      }
    },
    {
      "cell_type": "code",
      "source": [
        "mean1 = [0,0]\n",
        "mean2 = [2,2]\n",
        "variance1 = [[0.25, 0.3], [0.3, 1]]\n",
        "variance2 = [[0.5, 0],[0, 0.5]]\n",
        "prior = 0.5"
      ],
      "metadata": {
        "id": "Clb9AX6vYwZZ"
      },
      "execution_count": 5,
      "outputs": []
    },
    {
      "cell_type": "code",
      "source": [
        "determinant1 = np.linalg.det(variance1)\n",
        "determinant2 = np.linalg.det(variance2)\n",
        "\n",
        "inverse1 = np.linalg.inv(variance1)\n",
        "inverse2 = np.linalg.inv(variance2)"
      ],
      "metadata": {
        "id": "owBCrb17a-kY"
      },
      "execution_count": 6,
      "outputs": []
    },
    {
      "cell_type": "code",
      "source": [
        "class1prob = []\n",
        "class2prob = []\n",
        "for i in range (len(df)):\n",
        "  a = df.loc[i, :].values.tolist()\n",
        "  b1 = np.subtract(a,mean1)\n",
        "  b2 = np.subtract(a,mean2)\n",
        "  c1 = np.array(b1).T.tolist()\n",
        "  c2 = np.array(b2).T.tolist()\n",
        "  d1 = np.dot(c1,inverse1)\n",
        "  d2 = np.dot(c2,inverse2)\n",
        "  e1 = np.dot(b1, d1)\n",
        "  e2 = np.dot(b2, d2)\n",
        "\n",
        "  x1 = np.exp(-0.5 * e1)\n",
        "  x2 = np.exp(-0.5 * e2)\n",
        "\n",
        "  y1 = math.sqrt((2*math.pi)** 2 * determinant1)\n",
        "  y2 = math.sqrt((2*math.pi)** 2 * determinant2)\n",
        "        \n",
        "  z1= x1/y1\n",
        "  z2 = x2/y2\n",
        "\n",
        "  class1prob.append(z1*prior)\n",
        "  class2prob.append(z2*prior)"
      ],
      "metadata": {
        "id": "6ND5aV2JZ-6T"
      },
      "execution_count": 7,
      "outputs": []
    },
    {
      "cell_type": "code",
      "source": [
        "print(class1prob)\n",
        "print(class2prob)"
      ],
      "metadata": {
        "colab": {
          "base_uri": "https://localhost:8080/"
        },
        "id": "HaVPc3SkgwkL",
        "outputId": "f23b28c3-4b03-4283-d2f6-70ca34e6f9ff"
      },
      "execution_count": 8,
      "outputs": [
        {
          "output_type": "stream",
          "name": "stdout",
          "text": [
            "[0.026095731682525155, 0.0006137127856362326, 2.441940181810876e-15, 4.763869193476966e-13, 0.008740975213082243, 8.523208716126741e-15]\n",
            "[0.02153927930184863, 7.225623237724323e-06, 3.5974259813700723e-07, 1.394873426608797e-08, 0.0029150244650281935, 2.2103349154917858e-12]\n"
          ]
        }
      ]
    },
    {
      "cell_type": "code",
      "source": [
        "class_label = []\n",
        "for i in range (len(df)):\n",
        "  if class1prob[i]>class2prob[i]:\n",
        "     class_label.append(1)\n",
        "  else:\n",
        "     class_label.append(2)\n",
        "print(class_label)"
      ],
      "metadata": {
        "colab": {
          "base_uri": "https://localhost:8080/"
        },
        "id": "Dn2kFKi5gyw7",
        "outputId": "3f31bf9d-ec13-4aa0-bba3-0e02ad1c1140"
      },
      "execution_count": 9,
      "outputs": [
        {
          "output_type": "stream",
          "name": "stdout",
          "text": [
            "[1, 1, 2, 2, 1, 2]\n"
          ]
        }
      ]
    },
    {
      "cell_type": "markdown",
      "source": [
        "**Task 2**"
      ],
      "metadata": {
        "id": "8Swc6TWUyUMW"
      }
    },
    {
      "cell_type": "code",
      "source": [
        "x1 = []\n",
        "x2 = []\n",
        "y1 = []\n",
        "y2 = []\n",
        "\n",
        "for i in range(len(df)):\n",
        "  if class_label[i] == 1:\n",
        "    x1.append(df.iloc[i, 0])\n",
        "    y1.append(df.iloc[i, 1])\n",
        "  else:\n",
        "    x2.append(df.iloc[i, 0])\n",
        "    y2.append(df.iloc[i, 1])\n",
        "\n",
        "plt.figure(figsize = (12, 8))\n",
        "plt.scatter(x1, y1, c = 'b', marker = 's', s = 150, label = 'Class 1')\n",
        "plt.scatter(x2, y2, c = 'g', marker = 'p', s = 150, label = 'Class 2')\n",
        "plt.legend()\n",
        "plt.show()"
      ],
      "metadata": {
        "colab": {
          "base_uri": "https://localhost:8080/",
          "height": 483
        },
        "id": "nzT5_8nnuQfG",
        "outputId": "34e397e6-f965-4239-c759-c83ef235a0f2"
      },
      "execution_count": 10,
      "outputs": [
        {
          "output_type": "display_data",
          "data": {
            "text/plain": [
              "<Figure size 864x576 with 1 Axes>"
            ],
            "image/png": "[encoded data removed]"
          },
          "metadata": {
            "needs_background": "light"
          }
        }
      ]
    }
  ]
}